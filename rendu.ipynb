{
 "cells": [
  {
   "cell_type": "code",
   "execution_count": 151,
   "metadata": {},
   "outputs": [
    {
     "name": "stderr",
     "output_type": "stream",
     "text": [
      "'apt-get' n'est pas reconnu en tant que commande interne\n",
      "ou externe, un programme ex�cutable ou un fichier de commandes.\n"
     ]
    }
   ],
   "source": [
    "!apt-get install python3-pip"
   ]
  },
  {
   "cell_type": "code",
   "execution_count": 152,
   "metadata": {},
   "outputs": [
    {
     "name": "stdout",
     "output_type": "stream",
     "text": [
      "Looking in indexes: https://download.pytorch.org/whl/cu118\n",
      "Requirement already satisfied: torch in c:\\users\\admin\\appdata\\local\\programs\\python\\python312\\lib\\site-packages (2.5.1+cu118)\n",
      "Requirement already satisfied: torchvision in c:\\users\\admin\\appdata\\local\\programs\\python\\python312\\lib\\site-packages (0.20.1+cu118)\n",
      "Requirement already satisfied: torchaudio in c:\\users\\admin\\appdata\\local\\programs\\python\\python312\\lib\\site-packages (2.5.1+cu118)\n",
      "Requirement already satisfied: filelock in c:\\users\\admin\\appdata\\local\\programs\\python\\python312\\lib\\site-packages (from torch) (3.13.1)\n",
      "Requirement already satisfied: typing-extensions>=4.8.0 in c:\\users\\admin\\appdata\\local\\programs\\python\\python312\\lib\\site-packages (from torch) (4.12.2)\n",
      "Requirement already satisfied: networkx in c:\\users\\admin\\appdata\\local\\programs\\python\\python312\\lib\\site-packages (from torch) (3.2.1)\n",
      "Requirement already satisfied: jinja2 in c:\\users\\admin\\appdata\\local\\programs\\python\\python312\\lib\\site-packages (from torch) (3.1.3)\n",
      "Requirement already satisfied: fsspec in c:\\users\\admin\\appdata\\local\\programs\\python\\python312\\lib\\site-packages (from torch) (2024.2.0)\n",
      "Requirement already satisfied: setuptools in c:\\users\\admin\\appdata\\local\\programs\\python\\python312\\lib\\site-packages (from torch) (70.0.0)\n",
      "Requirement already satisfied: sympy==1.13.1 in c:\\users\\admin\\appdata\\local\\programs\\python\\python312\\lib\\site-packages (from torch) (1.13.1)\n",
      "Requirement already satisfied: mpmath<1.4,>=1.1.0 in c:\\users\\admin\\appdata\\local\\programs\\python\\python312\\lib\\site-packages (from sympy==1.13.1->torch) (1.3.0)\n",
      "Requirement already satisfied: numpy in c:\\users\\admin\\appdata\\local\\programs\\python\\python312\\lib\\site-packages (from torchvision) (2.2.1)\n",
      "Requirement already satisfied: pillow!=8.3.*,>=5.3.0 in c:\\users\\admin\\appdata\\local\\programs\\python\\python312\\lib\\site-packages (from torchvision) (11.1.0)\n",
      "Requirement already satisfied: MarkupSafe>=2.0 in c:\\users\\admin\\appdata\\local\\programs\\python\\python312\\lib\\site-packages (from jinja2->torch) (2.1.5)\n"
     ]
    }
   ],
   "source": [
    "!pip3 install torch torchvision torchaudio --index-url https://download.pytorch.org/whl/cu118"
   ]
  },
  {
   "cell_type": "code",
   "execution_count": 153,
   "metadata": {},
   "outputs": [
    {
     "name": "stdout",
     "output_type": "stream",
     "text": [
      "Python 3.13.1\n"
     ]
    }
   ],
   "source": [
    "!python3 -V"
   ]
  },
  {
   "cell_type": "code",
   "execution_count": 154,
   "metadata": {},
   "outputs": [],
   "source": [
    "import torch\n",
    "from torchvision import datasets\n",
    "import torchvision.transforms as T"
   ]
  },
  {
   "cell_type": "code",
   "execution_count": 155,
   "metadata": {},
   "outputs": [],
   "source": [
    "training_dataset_without_normalized = datasets.MNIST(\n",
    "    root='data',\n",
    "    train=True, \n",
    "    download=True,\n",
    "    transform=T.ToTensor()\n",
    "    )\n",
    "\n",
    "test_dataset_without_normalized = datasets.MNIST(\n",
    "    root='data',\n",
    "    train=False, \n",
    "    download=True,\n",
    "    transform=T.ToTensor()\n",
    "    )"
   ]
  },
  {
   "cell_type": "code",
   "execution_count": 156,
   "metadata": {},
   "outputs": [
    {
     "name": "stdout",
     "output_type": "stream",
     "text": [
      "Mean: 0.13092496991157532\n",
      "Std: 0.30183959007263184\n"
     ]
    }
   ],
   "source": [
    "from torch.utils.data import ConcatDataset\n",
    "\n",
    "mean, std = 0, 0\n",
    "\n",
    "combined_data = ConcatDataset([training_dataset_without_normalized, test_dataset_without_normalized])\n",
    "\n",
    "for image, label in combined_data:\n",
    "  image = image.view(28 * 28)\n",
    "  mean += image.mean().sum()\n",
    "  std += image.std().sum()\n",
    "\n",
    "mean /= len(combined_data)\n",
    "std /= len(combined_data)\n",
    "\n",
    "print(f\"Mean: {mean}\")\n",
    "print(f\"Std: {std}\")"
   ]
  },
  {
   "cell_type": "code",
   "execution_count": 157,
   "metadata": {},
   "outputs": [],
   "source": [
    "training_dataset = datasets.FashionMNIST(\n",
    "    root='data',\n",
    "    train=True, \n",
    "    download=True,\n",
    "    transform=T.Compose([T.ToTensor(), T.Normalize((mean), (std))])\n",
    "    )\n",
    "\n",
    "test_dataset = datasets.FashionMNIST(\n",
    "    root='data',\n",
    "    train=False, \n",
    "    download=True,\n",
    "    transform=T.Compose([T.ToTensor(), T.Normalize((mean), (std))])\n",
    "    )"
   ]
  },
  {
   "cell_type": "code",
   "execution_count": 158,
   "metadata": {},
   "outputs": [],
   "source": [
    "import matplotlib.pyplot as plt"
   ]
  },
  {
   "cell_type": "code",
   "execution_count": 159,
   "metadata": {},
   "outputs": [
    {
     "data": {
      "image/png": "[encoded data removed]",
      "text/plain": [
       "<Figure size 800x800 with 9 Axes>"
      ]
     },
     "metadata": {},
     "output_type": "display_data"
    }
   ],
   "source": [
    "\n",
    "figure = plt.figure(figsize=(8, 8))\n",
    "cols, rows = 3, 3\n",
    "for i in range(1, cols * rows + 1):\n",
    "    sample_idx = torch.randint(len(training_dataset), size=(1,)).item()\n",
    "    img, label = training_dataset[sample_idx]\n",
    "    figure.add_subplot(rows, cols, i)\n",
    "    plt.title(label)\n",
    "    plt.axis(\"off\")\n",
    "    plt.imshow(img.squeeze(), cmap=\"gray\")\n",
    "plt.show()"
   ]
  },
  {
   "cell_type": "code",
   "execution_count": 160,
   "metadata": {},
   "outputs": [
    {
     "name": "stdout",
     "output_type": "stream",
     "text": [
      "Dataset FashionMNIST\n",
      "    Number of datapoints: 60000\n",
      "    Root location: data\n",
      "    Split: Train\n",
      "    StandardTransform\n",
      "Transform: Compose(\n",
      "               ToTensor()\n",
      "               Normalize(mean=0.13092496991157532, std=0.30183959007263184)\n",
      "           )\n",
      "torch.Size([60000, 28, 28])\n",
      "torch.Size([60000])\n",
      "tensor([0, 1, 2, 3, 4, 5, 6, 7, 8, 9])\n",
      "tensor([6000, 6000, 6000, 6000, 6000, 6000, 6000, 6000, 6000, 6000])\n"
     ]
    }
   ],
   "source": [
    "print(training_dataset)\n",
    "print(training_dataset.data.shape)\n",
    "print(training_dataset.targets.shape)\n",
    "print(training_dataset.targets.unique())\n",
    "print(training_dataset.targets.bincount())"
   ]
  },
  {
   "cell_type": "code",
   "execution_count": 161,
   "metadata": {},
   "outputs": [
    {
     "name": "stdout",
     "output_type": "stream",
     "text": [
      "Shape X , torch.Size([128, 1, 28, 28])\n",
      "Shape y: , torch.Size([128])\n"
     ]
    }
   ],
   "source": [
    "from torch.utils.data import DataLoader\n",
    "\n",
    "batch_size = 128 # multiple de 2 \n",
    "\n",
    "train_dataloader = DataLoader(training_dataset, batch_size=batch_size, shuffle=True)\n",
    "test_dataloader = DataLoader(test_dataset, batch_size=batch_size)\n",
    "\n",
    "for X, y in test_dataloader:\n",
    "    print(f'Shape X , {X.shape}')\n",
    "    print(f'Shape y: , {y.shape}')\n",
    "    break"
   ]
  },
  {
   "cell_type": "code",
   "execution_count": 162,
   "metadata": {},
   "outputs": [],
   "source": [
    "epochs = 10\n"
   ]
  },
  {
   "cell_type": "code",
   "execution_count": 163,
   "metadata": {},
   "outputs": [
    {
     "name": "stdout",
     "output_type": "stream",
     "text": [
      "using cuda\n"
     ]
    }
   ],
   "source": [
    "device='cuda' if torch.cuda.is_available() else 'cpu'\n",
    "print(f'using {device}')\n",
    "\n",
    "input_dim = 28*28\n",
    "output_dim = 10 #Nombre de classe\n",
    "model = MLP([input_dim, 128, 128, output_dim]).to(device)\n",
    "loss_fn = nn.CrossEntropyLoss().to(device)\n",
    "optimizer = torch.optim.AdamW(model.parameters(), lr=1e-3) "
   ]
  },
  {
   "cell_type": "code",
   "execution_count": 164,
   "metadata": {},
   "outputs": [
    {
     "name": "stdout",
     "output_type": "stream",
     "text": [
      "Requirement already satisfied: tensorboard in c:\\users\\admin\\appdata\\local\\programs\\python\\python312\\lib\\site-packages (2.18.0)\n",
      "Requirement already satisfied: absl-py>=0.4 in c:\\users\\admin\\appdata\\local\\programs\\python\\python312\\lib\\site-packages (from tensorboard) (2.1.0)\n",
      "Requirement already satisfied: grpcio>=1.48.2 in c:\\users\\admin\\appdata\\local\\programs\\python\\python312\\lib\\site-packages (from tensorboard) (1.70.0)\n",
      "Requirement already satisfied: markdown>=2.6.8 in c:\\users\\admin\\appdata\\local\\programs\\python\\python312\\lib\\site-packages (from tensorboard) (3.7)\n",
      "Requirement already satisfied: numpy>=1.12.0 in c:\\users\\admin\\appdata\\local\\programs\\python\\python312\\lib\\site-packages (from tensorboard) (2.2.1)\n",
      "Requirement already satisfied: packaging in c:\\users\\admin\\appdata\\local\\programs\\python\\python312\\lib\\site-packages (from tensorboard) (24.2)\n",
      "Requirement already satisfied: protobuf!=4.24.0,>=3.19.6 in c:\\users\\admin\\appdata\\local\\programs\\python\\python312\\lib\\site-packages (from tensorboard) (5.29.3)\n",
      "Requirement already satisfied: setuptools>=41.0.0 in c:\\users\\admin\\appdata\\local\\programs\\python\\python312\\lib\\site-packages (from tensorboard) (70.0.0)\n",
      "Requirement already satisfied: six>1.9 in c:\\users\\admin\\appdata\\local\\programs\\python\\python312\\lib\\site-packages (from tensorboard) (1.17.0)\n",
      "Requirement already satisfied: tensorboard-data-server<0.8.0,>=0.7.0 in c:\\users\\admin\\appdata\\local\\programs\\python\\python312\\lib\\site-packages (from tensorboard) (0.7.2)\n",
      "Requirement already satisfied: werkzeug>=1.0.1 in c:\\users\\admin\\appdata\\local\\programs\\python\\python312\\lib\\site-packages (from tensorboard) (3.1.3)\n",
      "Requirement already satisfied: MarkupSafe>=2.1.1 in c:\\users\\admin\\appdata\\local\\programs\\python\\python312\\lib\\site-packages (from werkzeug>=1.0.1->tensorboard) (2.1.5)\n",
      "Note: you may need to restart the kernel to use updated packages.\n"
     ]
    }
   ],
   "source": [
    "pip install tensorboard"
   ]
  },
  {
   "cell_type": "code",
   "execution_count": 165,
   "metadata": {},
   "outputs": [],
   "source": [
    "\n",
    "from torch.utils.tensorboard import SummaryWriter\n",
    "writer = SummaryWriter('runs/mnist_experiment_1')\n",
    "def train_loop(dataloader, model, loss_fn, optimizer, batch_size):\n",
    "    model.train()\n",
    "    epoch_loss = 0\n",
    "    correct = 0\n",
    "    for X, y in dataloader:\n",
    "        X, y = X.to(device), y.to(device)\n",
    "        # Compute prediction and loss\n",
    "        pred = model(X)\n",
    "        loss = loss_fn(pred, y)\n",
    "\n",
    "        # Backpropagation\n",
    "        loss.backward()\n",
    "        optimizer.step()\n",
    "        optimizer.zero_grad()\n",
    "\n",
    "        epoch_loss += loss.item()\n",
    "        correct += (pred.argmax(1) == y).type(torch.float).sum().item()\n",
    "    return epoch_loss / len(dataloader), correct / len(dataloader.dataset) * 100\n",
    "\n",
    "def test_loop(dataloader, model, loss_fn):\n",
    "    model.eval()\n",
    "    test_loss, correct = 0, 0\n",
    "\n",
    "    with torch.no_grad():\n",
    "        for X, y in dataloader:\n",
    "            X, y = X.to(device), y.to(device)\n",
    "            pred = model(X)\n",
    "            test_loss += loss_fn(pred, y).item()\n",
    "            correct += (pred.argmax(1) == y).type(torch.float).sum().item()\n",
    "    return test_loss / len(dataloader), correct / len(dataloader.dataset) * 100\n",
    "\n",
    "# Training loop with added graphing\n",
    "def train_and_test(dataloader_train, dataloader_test, model, loss_fn, optimizer, epochs, batch_size):\n",
    "    for epoch in range(epochs):\n",
    "        print(f\"Epoch {epoch+1}/{epochs}\")\n",
    "\n",
    "        # Train the model\n",
    "        train_loss, train_accuracy = train_loop(dataloader_train, model, loss_fn, optimizer, batch_size)\n",
    "        print('train_loss:', train_loss)\n",
    "        print('train accuracy:', train_accuracy)\n",
    "        writer.add_scalars('Loss', {'train': train_loss}, epoch)\n",
    "        writer.add_scalars('Accuracy', {'train': train_accuracy}, epoch)\n",
    "\n",
    "        # Test the model\n",
    "        test_loss, test_accuracy = test_loop(dataloader_test, model, loss_fn)\n",
    "        print('test_loss:', test_loss)\n",
    "        print('test accuracy:', test_accuracy)\n",
    "        writer.add_scalars('Loss', {'test': test_loss}, epoch)\n",
    "        writer.add_scalars('Accuracy', {'test': test_accuracy}, epoch)\n",
    "\n",
    "        print(f\"Epoch {epoch+1}/{epochs} complete\\n\")\n"
   ]
  },
  {
   "cell_type": "code",
   "execution_count": 166,
   "metadata": {},
   "outputs": [
    {
     "name": "stdout",
     "output_type": "stream",
     "text": [
      "The tensorboard extension is already loaded. To reload it, use:\n",
      "  %reload_ext tensorboard\n"
     ]
    }
   ],
   "source": [
    "%load_ext tensorboard"
   ]
  },
  {
   "cell_type": "code",
   "execution_count": 167,
   "metadata": {},
   "outputs": [],
   "source": [
    "class CNN(nn.Module):\n",
    "    def __init__(self):\n",
    "        super(CNN, self).__init__()\n",
    "        self.conv_stack = nn.Sequential(\n",
    "            nn.Conv2d(in_channels=1, out_channels=32, kernel_size=3, padding=1), #1 * 28 * 28 -> #32 * 28 * 28\n",
    "            nn.ReLU(),\n",
    "            nn.Conv2d(in_channels=32, out_channels=64, kernel_size=3, padding=1), #32 * 28 * 28 -> 64 * 28 * 28\n",
    "            nn.ReLU(),\n",
    "            nn.MaxPool2d(kernel_size=2, stride=2) #64 * 28 *28 -> 64 * 14 * 14\n",
    "        )\n",
    "        self.mlp = nn.Sequential(\n",
    "            nn.Flatten(),\n",
    "            nn.Linear(64 * 14 * 14, 128),\n",
    "            nn.ReLU(),\n",
    "            nn.Linear(128, 128),\n",
    "            nn.ReLU(),\n",
    "            nn.Linear(128, 10),\n",
    "        )\n",
    "    \n",
    "    def forward(self, x):\n",
    "        x = self.conv_stack(x)\n",
    "        x = self.mlp(x)\n",
    "        return x"
   ]
  },
  {
   "cell_type": "code",
   "execution_count": 168,
   "metadata": {},
   "outputs": [
    {
     "name": "stdout",
     "output_type": "stream",
     "text": [
      "Epoch 1/10\n",
      "train_loss: 0.41835417889201565\n",
      "train accuracy: 84.69666666666666\n",
      "test_loss: 0.2958174838295466\n",
      "test accuracy: 89.25999999999999\n",
      "Epoch 1/10 complete\n",
      "\n",
      "Epoch 2/10\n",
      "train_loss: 0.25475926214316763\n",
      "train accuracy: 90.66\n",
      "test_loss: 0.2706930250683917\n",
      "test accuracy: 90.24\n",
      "Epoch 2/10 complete\n",
      "\n",
      "Epoch 3/10\n",
      "train_loss: 0.20120261456253433\n",
      "train accuracy: 92.55833333333334\n",
      "test_loss: 0.23147082913525496\n",
      "test accuracy: 91.35\n",
      "Epoch 3/10 complete\n",
      "\n",
      "Epoch 4/10\n",
      "train_loss: 0.1632605799749843\n",
      "train accuracy: 93.875\n",
      "test_loss: 0.22752961290033558\n",
      "test accuracy: 91.78\n",
      "Epoch 4/10 complete\n",
      "\n",
      "Epoch 5/10\n",
      "train_loss: 0.1319285078502413\n",
      "train accuracy: 95.08166666666666\n",
      "test_loss: 0.2422804032699971\n",
      "test accuracy: 91.72\n",
      "Epoch 5/10 complete\n",
      "\n",
      "Epoch 6/10\n",
      "train_loss: 0.10489396406198616\n",
      "train accuracy: 96.03666666666668\n",
      "test_loss: 0.2346327550992181\n",
      "test accuracy: 92.39\n",
      "Epoch 6/10 complete\n",
      "\n",
      "Epoch 7/10\n",
      "train_loss: 0.07989930880984772\n",
      "train accuracy: 97.10333333333332\n",
      "test_loss: 0.25523233611749696\n",
      "test accuracy: 92.77\n",
      "Epoch 7/10 complete\n",
      "\n",
      "Epoch 8/10\n",
      "train_loss: 0.06194722869479135\n",
      "train accuracy: 97.67333333333333\n",
      "test_loss: 0.2972971673441839\n",
      "test accuracy: 92.16\n",
      "Epoch 8/10 complete\n",
      "\n",
      "Epoch 9/10\n",
      "train_loss: 0.05005979528928648\n",
      "train accuracy: 98.225\n",
      "test_loss: 0.31164755742949773\n",
      "test accuracy: 92.19000000000001\n",
      "Epoch 9/10 complete\n",
      "\n",
      "Epoch 10/10\n",
      "train_loss: 0.03640734408992027\n",
      "train accuracy: 98.68666666666667\n",
      "test_loss: 0.35406417550542685\n",
      "test accuracy: 92.06\n",
      "Epoch 10/10 complete\n",
      "\n"
     ]
    }
   ],
   "source": [
    "cnn = CNN().to(device)\n",
    "loss_fn = nn.CrossEntropyLoss().to(device)\n",
    "optimizer = torch.optim.AdamW(cnn.parameters(), lr=1e-3) \n",
    "\n",
    "writer = SummaryWriter('runs/mnist_experiment_3')\n",
    "train_and_test(train_dataloader, test_dataloader, cnn, loss_fn, optimizer, epochs, batch_size)\n"
   ]
  },
  {
   "cell_type": "code",
   "execution_count": 169,
   "metadata": {},
   "outputs": [
    {
     "name": "stdout",
     "output_type": "stream",
     "text": [
      "Requirement already satisfied: onnx in c:\\users\\admin\\appdata\\local\\programs\\python\\python312\\lib\\site-packages (1.17.0)\n",
      "Requirement already satisfied: numpy>=1.20 in c:\\users\\admin\\appdata\\local\\programs\\python\\python312\\lib\\site-packages (from onnx) (2.2.1)\n",
      "Requirement already satisfied: protobuf>=3.20.2 in c:\\users\\admin\\appdata\\local\\programs\\python\\python312\\lib\\site-packages (from onnx) (5.29.3)\n",
      "Note: you may need to restart the kernel to use updated packages.\n"
     ]
    }
   ],
   "source": [
    "pip install onnx\n"
   ]
  },
  {
   "cell_type": "code",
   "execution_count": 170,
   "metadata": {},
   "outputs": [
    {
     "name": "stdout",
     "output_type": "stream",
     "text": [
      "Requirement already satisfied: onnxscript in c:\\users\\admin\\appdata\\local\\programs\\python\\python312\\lib\\site-packages (0.1.0)\n",
      "Requirement already satisfied: numpy in c:\\users\\admin\\appdata\\local\\programs\\python\\python312\\lib\\site-packages (from onnxscript) (2.2.1)\n",
      "Requirement already satisfied: onnx>=1.16 in c:\\users\\admin\\appdata\\local\\programs\\python\\python312\\lib\\site-packages (from onnxscript) (1.17.0)\n",
      "Requirement already satisfied: typing_extensions>=4.10 in c:\\users\\admin\\appdata\\local\\programs\\python\\python312\\lib\\site-packages (from onnxscript) (4.12.2)\n",
      "Requirement already satisfied: ml_dtypes in c:\\users\\admin\\appdata\\local\\programs\\python\\python312\\lib\\site-packages (from onnxscript) (0.5.1)\n",
      "Requirement already satisfied: packaging in c:\\users\\admin\\appdata\\local\\programs\\python\\python312\\lib\\site-packages (from onnxscript) (24.2)\n",
      "Requirement already satisfied: protobuf>=3.20.2 in c:\\users\\admin\\appdata\\local\\programs\\python\\python312\\lib\\site-packages (from onnx>=1.16->onnxscript) (5.29.3)\n",
      "Note: you may need to restart the kernel to use updated packages.\n"
     ]
    }
   ],
   "source": [
    "pip install onnxscript"
   ]
  },
  {
   "cell_type": "code",
   "execution_count": 171,
   "metadata": {},
   "outputs": [],
   "source": [
    "cnn.to('cpu')\n",
    "torch_input = torch.rand(1, 1, 28, 28) # N, C, L, T\n",
    "onxx_program = torch.onnx.export(\n",
    "    cnn,\n",
    "    torch_input,\n",
    "    'model.onnx',\n",
    "    verbose=True,\n",
    "    input_names=['input'],\n",
    "    output_names=['output'],\n",
    "    opset_version=11,\n",
    "    export_params=True,\n",
    "    do_constant_folding=True,\n",
    "    dynamic_axes={\n",
    "        'input': {0: 'batch_size'},\n",
    "        'output': {0: 'batch_size'}\n",
    "    }\n",
    ")"
   ]
  },
  {
   "cell_type": "code",
   "execution_count": 172,
   "metadata": {},
   "outputs": [
    {
     "name": "stdout",
     "output_type": "stream",
     "text": [
      "Requirement already satisfied: onnxruntime in c:\\users\\admin\\appdata\\local\\programs\\python\\python312\\lib\\site-packages (1.20.1)\n",
      "Requirement already satisfied: coloredlogs in c:\\users\\admin\\appdata\\local\\programs\\python\\python312\\lib\\site-packages (from onnxruntime) (15.0.1)\n",
      "Requirement already satisfied: flatbuffers in c:\\users\\admin\\appdata\\local\\programs\\python\\python312\\lib\\site-packages (from onnxruntime) (25.1.24)\n",
      "Requirement already satisfied: numpy>=1.21.6 in c:\\users\\admin\\appdata\\local\\programs\\python\\python312\\lib\\site-packages (from onnxruntime) (2.2.1)\n",
      "Requirement already satisfied: packaging in c:\\users\\admin\\appdata\\local\\programs\\python\\python312\\lib\\site-packages (from onnxruntime) (24.2)\n",
      "Requirement already satisfied: protobuf in c:\\users\\admin\\appdata\\local\\programs\\python\\python312\\lib\\site-packages (from onnxruntime) (5.29.3)\n",
      "Requirement already satisfied: sympy in c:\\users\\admin\\appdata\\local\\programs\\python\\python312\\lib\\site-packages (from onnxruntime) (1.13.1)\n",
      "Requirement already satisfied: humanfriendly>=9.1 in c:\\users\\admin\\appdata\\local\\programs\\python\\python312\\lib\\site-packages (from coloredlogs->onnxruntime) (10.0)\n",
      "Requirement already satisfied: mpmath<1.4,>=1.1.0 in c:\\users\\admin\\appdata\\local\\programs\\python\\python312\\lib\\site-packages (from sympy->onnxruntime) (1.3.0)\n",
      "Requirement already satisfied: pyreadline3 in c:\\users\\admin\\appdata\\local\\programs\\python\\python312\\lib\\site-packages (from humanfriendly>=9.1->coloredlogs->onnxruntime) (3.5.4)\n",
      "Note: you may need to restart the kernel to use updated packages.\n"
     ]
    }
   ],
   "source": [
    "pip install onnxruntime"
   ]
  },
  {
   "cell_type": "code",
   "execution_count": 173,
   "metadata": {},
   "outputs": [
    {
     "name": "stdout",
     "output_type": "stream",
     "text": [
      "Input length: 1\n",
      "Sample input: [tensor([[[[0.8092, 0.8530, 0.8108, 0.8275, 0.7356, 0.1622, 0.9411, 0.2531,\n",
      "           0.3713, 0.3520, 0.9566, 0.9944, 0.8791, 0.5532, 0.0265, 0.8871,\n",
      "           0.9117, 0.4856, 0.7828, 0.5875, 0.5388, 0.9715, 0.3242, 0.5242,\n",
      "           0.7579, 0.1070, 0.2972, 0.1510],\n",
      "          [0.3952, 0.6958, 0.4350, 0.5678, 0.4049, 0.1881, 0.6636, 0.8802,\n",
      "           0.6791, 0.9138, 0.3670, 0.8074, 0.9375, 0.5438, 0.5530, 0.7687,\n",
      "           0.6835, 0.5156, 0.1928, 0.2457, 0.7261, 0.8130, 0.6693, 0.4976,\n",
      "           0.4662, 0.1092, 0.8388, 0.7938],\n",
      "          [0.7373, 0.8845, 0.6623, 0.6523, 0.1671, 0.5707, 0.5963, 0.9893,\n",
      "           0.9056, 0.2841, 0.9087, 0.1797, 0.8550, 0.5252, 0.8606, 0.9198,\n",
      "           0.6602, 0.1476, 0.1937, 0.1674, 0.3274, 0.7276, 0.9182, 0.4324,\n",
      "           0.0772, 0.6370, 0.3774, 0.9275],\n",
      "          [0.2547, 0.2547, 0.5008, 0.2488, 0.0379, 0.3849, 0.2496, 0.1405,\n",
      "           0.0786, 0.5735, 0.0097, 0.1461, 0.1663, 0.3535, 0.3053, 0.4659,\n",
      "           0.1159, 0.2423, 0.5173, 0.7524, 0.5838, 0.3842, 0.4159, 0.8234,\n",
      "           0.8858, 0.2001, 0.5101, 0.4142],\n",
      "          [0.0801, 0.9727, 0.8878, 0.2513, 0.1579, 0.6942, 0.1112, 0.5063,\n",
      "           0.9610, 0.1655, 0.0477, 0.3407, 0.6523, 0.8860, 0.8764, 0.8464,\n",
      "           0.2350, 0.9678, 0.5840, 0.5758, 0.7940, 0.2148, 0.1458, 0.9928,\n",
      "           0.6456, 0.9810, 0.6035, 0.8597],\n",
      "          [0.7596, 0.6791, 0.7818, 0.5464, 0.6402, 0.2829, 0.6251, 0.5548,\n",
      "           0.7484, 0.4215, 0.6743, 0.5612, 0.8196, 0.6753, 0.5062, 0.9369,\n",
      "           0.3897, 0.4526, 0.5593, 0.2504, 0.7555, 0.5421, 0.2193, 0.7051,\n",
      "           0.0993, 0.6630, 0.1145, 0.0991],\n",
      "          [0.4280, 0.2468, 0.7182, 0.9985, 0.1250, 0.7749, 0.0286, 0.4198,\n",
      "           0.9738, 0.5230, 0.9955, 0.0927, 0.3759, 0.6895, 0.3401, 0.1049,\n",
      "           0.5895, 0.0577, 0.7526, 0.5188, 0.0768, 0.1203, 0.6619, 0.0634,\n",
      "           0.3849, 0.9829, 0.5436, 0.9618],\n",
      "          [0.7774, 0.1188, 0.5816, 0.8862, 0.7166, 0.4044, 0.3380, 0.8863,\n",
      "           0.8888, 0.3785, 0.3476, 0.3834, 0.5631, 0.1764, 0.1140, 0.1328,\n",
      "           0.0401, 0.3912, 0.8242, 0.2123, 0.7076, 0.7200, 0.7776, 0.9197,\n",
      "           0.3029, 0.0045, 0.4321, 0.0231],\n",
      "          [0.8780, 0.3565, 0.2822, 0.4140, 0.6242, 0.0116, 0.1128, 0.6147,\n",
      "           0.4943, 0.1649, 0.8262, 0.8967, 0.1607, 0.6243, 0.8058, 0.5063,\n",
      "           0.7790, 0.8452, 0.6616, 0.4136, 0.6990, 0.3408, 0.2252, 0.5171,\n",
      "           0.8173, 0.9069, 0.1293, 0.0539],\n",
      "          [0.8779, 0.2162, 0.4228, 0.5708, 0.2589, 0.5747, 0.9278, 0.3222,\n",
      "           0.3812, 0.0372, 0.0429, 0.1578, 0.7068, 0.9768, 0.7246, 0.6218,\n",
      "           0.7862, 0.7728, 0.7110, 0.9390, 0.4318, 0.1964, 0.3057, 0.6400,\n",
      "           0.9239, 0.7481, 0.6821, 0.1524],\n",
      "          [0.7418, 0.0168, 0.6494, 0.7865, 0.5792, 0.6891, 0.6516, 0.9373,\n",
      "           0.6601, 0.8371, 0.9616, 0.4581, 0.6970, 0.3313, 0.5916, 0.0913,\n",
      "           0.0469, 0.5517, 0.9464, 0.0389, 0.2051, 0.0056, 0.6462, 0.2878,\n",
      "           0.0454, 0.5483, 0.2691, 0.0726],\n",
      "          [0.1850, 0.7164, 0.1181, 0.7498, 0.9273, 0.7656, 0.1378, 0.5645,\n",
      "           0.5182, 0.3182, 0.3711, 0.6608, 0.6832, 0.7535, 0.7048, 0.2835,\n",
      "           0.3945, 0.7391, 0.8553, 0.3120, 0.2357, 0.4994, 0.3322, 0.0015,\n",
      "           0.9332, 0.8812, 0.3426, 0.5672],\n",
      "          [0.1619, 0.8161, 0.4455, 0.9244, 0.9526, 0.9773, 0.3926, 0.1671,\n",
      "           0.4429, 0.3637, 0.0749, 0.8168, 0.9227, 0.9916, 0.4154, 0.4682,\n",
      "           0.0861, 0.9660, 0.8188, 0.0051, 0.2593, 0.1921, 0.9103, 0.2955,\n",
      "           0.4593, 0.0740, 0.4872, 0.2830],\n",
      "          [0.2262, 0.1002, 0.9958, 0.3220, 0.8436, 0.2367, 0.0651, 0.6816,\n",
      "           0.7211, 0.7840, 0.7678, 0.8447, 0.0916, 0.6334, 0.3765, 0.5583,\n",
      "           0.4897, 0.8032, 0.3202, 0.2592, 0.2699, 0.3192, 0.7656, 0.1161,\n",
      "           0.2141, 0.8701, 0.6684, 0.7764],\n",
      "          [0.7793, 0.0090, 0.2550, 0.0491, 0.9528, 0.7562, 0.0157, 0.1337,\n",
      "           0.8070, 0.8278, 0.1943, 0.5402, 0.7506, 0.5228, 0.7976, 0.0188,\n",
      "           0.6120, 0.1363, 0.0586, 0.1805, 0.1031, 0.8895, 0.4594, 0.5541,\n",
      "           0.6664, 0.9082, 0.3366, 0.0360],\n",
      "          [0.0785, 0.7106, 0.0729, 0.4610, 0.8949, 0.3839, 0.7634, 0.5896,\n",
      "           0.8974, 0.9116, 0.9971, 0.2971, 0.3553, 0.3501, 0.0647, 0.6116,\n",
      "           0.3879, 0.8173, 0.4658, 0.3327, 0.4642, 0.3472, 0.0076, 0.6884,\n",
      "           0.3311, 0.7608, 0.9876, 0.7359],\n",
      "          [0.6603, 0.1718, 0.9696, 0.9517, 0.2964, 0.3580, 0.6934, 0.7985,\n",
      "           0.3350, 0.8425, 0.7221, 0.6835, 0.3443, 0.2093, 0.5327, 0.1927,\n",
      "           0.7817, 0.5752, 0.8166, 0.9098, 0.7767, 0.1252, 0.0663, 0.7198,\n",
      "           0.1130, 0.7079, 0.7718, 0.0952],\n",
      "          [0.5197, 0.6170, 0.7241, 0.5448, 0.2946, 0.3759, 0.2506, 0.6121,\n",
      "           0.8683, 0.9923, 0.3882, 0.2392, 0.2208, 0.9660, 0.4198, 0.2511,\n",
      "           0.2044, 0.1785, 0.6549, 0.9572, 0.3102, 0.1180, 0.2640, 0.2694,\n",
      "           0.2922, 0.6004, 0.0194, 0.6610],\n",
      "          [0.3382, 0.8701, 0.0532, 0.5812, 0.6519, 0.9889, 0.3795, 0.8065,\n",
      "           0.2982, 0.0679, 0.1205, 0.7088, 0.3459, 0.1630, 0.6783, 0.4679,\n",
      "           0.2432, 0.8028, 0.6918, 0.1401, 0.9523, 0.1995, 0.4315, 0.2017,\n",
      "           0.5685, 0.8091, 0.0691, 0.2280],\n",
      "          [0.5811, 0.2860, 0.1348, 0.9589, 0.9971, 0.2088, 0.8737, 0.9499,\n",
      "           0.4553, 0.7017, 0.6983, 0.7998, 0.1852, 0.5276, 0.5810, 0.7059,\n",
      "           0.1503, 0.7409, 0.8474, 0.2779, 0.6812, 0.3132, 0.5918, 0.9855,\n",
      "           0.8274, 0.1706, 0.6321, 0.9818],\n",
      "          [0.5111, 0.3694, 0.1649, 0.2382, 0.2878, 0.5026, 0.1438, 0.0896,\n",
      "           0.3532, 0.9592, 0.1871, 0.6702, 0.2148, 0.1976, 0.7189, 0.8075,\n",
      "           0.1895, 0.4451, 0.7728, 0.7110, 0.6419, 0.4378, 0.4629, 0.9153,\n",
      "           0.3563, 0.8260, 0.6350, 0.8223],\n",
      "          [0.7162, 0.9000, 0.2063, 0.4937, 0.2112, 0.0080, 0.8036, 0.7714,\n",
      "           0.5618, 0.9361, 0.1332, 0.8219, 0.1937, 0.8166, 0.4168, 0.9082,\n",
      "           0.8181, 0.6926, 0.3678, 0.5077, 0.7690, 0.2736, 0.2319, 0.9069,\n",
      "           0.6400, 0.0208, 0.4379, 0.8776],\n",
      "          [0.6883, 0.0917, 0.1281, 0.2539, 0.9027, 0.5066, 0.0586, 0.9437,\n",
      "           0.4240, 0.6682, 0.6958, 0.4187, 0.2130, 0.0946, 0.6082, 0.2726,\n",
      "           0.8319, 0.5684, 0.6293, 0.5837, 0.3860, 0.2547, 0.1410, 0.4666,\n",
      "           0.5414, 0.0261, 0.7681, 0.7706],\n",
      "          [0.8621, 0.9328, 0.2073, 0.3725, 0.3473, 0.9946, 0.5419, 0.9563,\n",
      "           0.8107, 0.9178, 0.3812, 0.8268, 0.4832, 0.4378, 0.8864, 0.0738,\n",
      "           0.9449, 0.4103, 0.2472, 0.4145, 0.7259, 0.6818, 0.1730, 0.3715,\n",
      "           0.6829, 0.2911, 0.0477, 0.6438],\n",
      "          [0.2531, 0.4490, 0.3196, 0.0732, 0.7986, 0.4390, 0.2343, 0.5140,\n",
      "           0.3261, 0.1616, 0.8873, 0.2654, 0.6886, 0.0609, 0.5740, 0.5874,\n",
      "           0.4150, 0.1405, 0.1930, 0.3122, 0.8806, 0.2165, 0.1426, 0.7095,\n",
      "           0.6569, 0.8895, 0.3552, 0.5371],\n",
      "          [0.2684, 0.9207, 0.3921, 0.0874, 0.7925, 0.6347, 0.6548, 0.2207,\n",
      "           0.5483, 0.6720, 0.5953, 0.4533, 0.8362, 0.3484, 0.7924, 0.9101,\n",
      "           0.8550, 0.2706, 0.9607, 0.6131, 0.4945, 0.1857, 0.5961, 0.4289,\n",
      "           0.0615, 0.0960, 0.6407, 0.7328],\n",
      "          [0.6320, 0.2756, 0.7926, 0.9063, 0.7836, 0.7015, 0.4015, 0.1594,\n",
      "           0.4723, 0.5011, 0.2240, 0.3682, 0.1480, 0.3704, 0.9748, 0.4024,\n",
      "           0.9795, 0.2004, 0.5969, 0.5406, 0.4916, 0.1560, 0.7490, 0.4702,\n",
      "           0.4522, 0.2708, 0.2444, 0.1921],\n",
      "          [0.3892, 0.3362, 0.7774, 0.2251, 0.0178, 0.9147, 0.6745, 0.1220,\n",
      "           0.6628, 0.6944, 0.6824, 0.8440, 0.7290, 0.9444, 0.4600, 0.4561,\n",
      "           0.3004, 0.5686, 0.6114, 0.2464, 0.9586, 0.8291, 0.7609, 0.1538,\n",
      "           0.8005, 0.2499, 0.9018, 0.9436]]]])]\n"
     ]
    }
   ],
   "source": [
    "import onnxruntime\n",
    "\n",
    "onnx_input = [torch_input]\n",
    "print(f\"Input length: {len(onnx_input)}\")\n",
    "print(f\"Sample input: {onnx_input}\")\n",
    "\n",
    "ort_session = onnxruntime.InferenceSession(\"./model.onnx\", provider_options={'device':'CPU'})\n",
    "\n",
    "def to_numpy(tensor):\n",
    "    return tensor.detach().cpu().numpy() if tensor.requires_grad else tensor.cpu().numpy()\n",
    "\n",
    "onnxruntime_input = {k.name: to_numpy(v) for k, v in zip(ort_session.get_inputs(), onnx_input)}\n",
    "\n",
    "# onnxruntime returns a list of outputs\n",
    "onnxruntime_outputs = ort_session.run(None, onnxruntime_input)[0]"
   ]
  }
 ],
 "metadata": {
  "kernelspec": {
   "display_name": "Python 3",
   "language": "python",
   "name": "python3"
  },
  "language_info": {
   "codemirror_mode": {
    "name": "ipython",
    "version": 3
   },
   "file_extension": ".py",
   "mimetype": "text/x-python",
   "name": "python",
   "nbconvert_exporter": "python",
   "pygments_lexer": "ipython3",
   "version": "3.12.8"
  }
 },
 "nbformat": 4,
 "nbformat_minor": 2
}
